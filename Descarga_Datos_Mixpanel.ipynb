{
  "nbformat": 4,
  "nbformat_minor": 0,
  "metadata": {
    "colab": {
      "provenance": [],
      "include_colab_link": true
    },
    "kernelspec": {
      "name": "python3",
      "display_name": "Python 3"
    },
    "language_info": {
      "name": "python"
    }
  },
  "cells": [
    {
      "cell_type": "markdown",
      "metadata": {
        "id": "view-in-github",
        "colab_type": "text"
      },
      "source": [
        "<a href=\"https://colab.research.google.com/github/mcmunoz4/Python/blob/main/Descarga_Datos_Mixpanel.ipynb\" target=\"_parent\"><img src=\"https://colab.research.google.com/assets/colab-badge.svg\" alt=\"Open In Colab\"/></a>"
      ]
    },
    {
      "cell_type": "markdown",
      "source": [
        "# Descarga datos mixpanel\n",
        "\n",
        "Primero, se deberán instalar las siguientes librerías:"
      ],
      "metadata": {
        "id": "8onx4qk49O7T"
      }
    },
    {
      "cell_type": "code",
      "source": [
        "!pip install mixpanel_utils\n",
        "!pip install boto3"
      ],
      "metadata": {
        "id": "nxskTug18YPR",
        "colab": {
          "base_uri": "https://localhost:8080/"
        },
        "outputId": "b941a72f-5bc5-4106-a281-8432805b8243"
      },
      "execution_count": null,
      "outputs": [
        {
          "output_type": "stream",
          "name": "stdout",
          "text": [
            "Looking in indexes: https://pypi.org/simple, https://us-python.pkg.dev/colab-wheels/public/simple/\n",
            "Collecting mixpanel_utils\n",
            "  Downloading mixpanel_utils-2.2.5-py3-none-any.whl (23 kB)\n",
            "Installing collected packages: mixpanel_utils\n",
            "Successfully installed mixpanel_utils-2.2.5\n",
            "Looking in indexes: https://pypi.org/simple, https://us-python.pkg.dev/colab-wheels/public/simple/\n",
            "Collecting boto3\n",
            "  Downloading boto3-1.26.142-py3-none-any.whl (135 kB)\n",
            "\u001b[2K     \u001b[90m━━━━━━━━━━━━━━━━━━━━━━━━━━━━━━━━━━━━━━━\u001b[0m \u001b[32m135.6/135.6 kB\u001b[0m \u001b[31m1.7 MB/s\u001b[0m eta \u001b[36m0:00:00\u001b[0m\n",
            "\u001b[?25hCollecting botocore<1.30.0,>=1.29.142 (from boto3)\n",
            "  Downloading botocore-1.29.142-py3-none-any.whl (10.8 MB)\n",
            "\u001b[2K     \u001b[90m━━━━━━━━━━━━━━━━━━━━━━━━━━━━━━━━━━━━━━━━\u001b[0m \u001b[32m10.8/10.8 MB\u001b[0m \u001b[31m93.9 MB/s\u001b[0m eta \u001b[36m0:00:00\u001b[0m\n",
            "\u001b[?25hCollecting jmespath<2.0.0,>=0.7.1 (from boto3)\n",
            "  Downloading jmespath-1.0.1-py3-none-any.whl (20 kB)\n",
            "Collecting s3transfer<0.7.0,>=0.6.0 (from boto3)\n",
            "  Downloading s3transfer-0.6.1-py3-none-any.whl (79 kB)\n",
            "\u001b[2K     \u001b[90m━━━━━━━━━━━━━━━━━━━━━━━━━━━━━━━━━━━━━━━━\u001b[0m \u001b[32m79.8/79.8 kB\u001b[0m \u001b[31m11.2 MB/s\u001b[0m eta \u001b[36m0:00:00\u001b[0m\n",
            "\u001b[?25hRequirement already satisfied: python-dateutil<3.0.0,>=2.1 in /usr/local/lib/python3.10/dist-packages (from botocore<1.30.0,>=1.29.142->boto3) (2.8.2)\n",
            "Requirement already satisfied: urllib3<1.27,>=1.25.4 in /usr/local/lib/python3.10/dist-packages (from botocore<1.30.0,>=1.29.142->boto3) (1.26.15)\n",
            "Requirement already satisfied: six>=1.5 in /usr/local/lib/python3.10/dist-packages (from python-dateutil<3.0.0,>=2.1->botocore<1.30.0,>=1.29.142->boto3) (1.16.0)\n",
            "Installing collected packages: jmespath, botocore, s3transfer, boto3\n",
            "Successfully installed boto3-1.26.142 botocore-1.29.142 jmespath-1.0.1 s3transfer-0.6.1\n"
          ]
        }
      ]
    },
    {
      "cell_type": "markdown",
      "source": [
        "Para descargar datos mixpanel, se necesita tener dos variables, `SECRET` y `TOKEN`. Ambas se pueden obtener desde el panel de MixPanel, en configuración del proyecto.\n",
        "\n",
        "A continuación, favor definir las credenciales:"
      ],
      "metadata": {
        "id": "zXmqOCpe8zf2"
      }
    },
    {
      "cell_type": "code",
      "source": [
        "from getpass import getpass\n",
        "SECRET = '7ee450681a8d502a12ee2d66afb97778'\n",
        "TOKEN = '97607900fa1a817194efaa51c87f308a'"
      ],
      "metadata": {
        "id": "YpH-XeDU9dKG"
      },
      "execution_count": null,
      "outputs": []
    },
    {
      "cell_type": "markdown",
      "source": [
        "# Definición de eventos y  fechas\n",
        "A continuación, necesitaremos colocar el evento que queremos descargar y el rango de fechas.\n",
        "\n",
        "Respecto al evento (`EVENT`), el desglose de eventos en la plataforma se encuentra [aquí](https://docs.google.com/spreadsheets/d/1WuU3Lgy0txhEV3NlytVFXGlF4JMj3FfyXRTrA4mVqp4/edit#gid=0).\n",
        "\n",
        "Respecto a las fechas (`FROM_DATE` y `START_DATE`), el formato es YYY-MM-DD, donde YYYY es el año, MM es el mes y DD es el día. Por ejemplo, el 20 de agosto de 2022 sería `'2022-08-20'`."
      ],
      "metadata": {
        "id": "kLuwwWDd9ksG"
      }
    },
    {
      "cell_type": "code",
      "source": [
        "FROM_DATE = '2022-01-09'\n",
        "TO_DATE = '2022-02-02'"
      ],
      "metadata": {
        "id": "7Nc84BPl9wXq"
      },
      "execution_count": null,
      "outputs": []
    },
    {
      "cell_type": "markdown",
      "source": [
        "El siguiente código bajará todos los eventos del tipo `EVENT` entre `FROM_DATE` y `TO_DATE`, y lo guardará con nombre de archivo `<EVENT>_<FROM_DATE>-<TO_DATE>.csv`. Por ejemplo, todos los eventos de tipo `login` entre `2022-12-07` y `2022-12-09` se guardaría como `login_2022-12-07_2022-12-09.csv`."
      ],
      "metadata": {
        "id": "-rYlwve__kzh"
      }
    },
    {
      "cell_type": "code",
      "execution_count": null,
      "metadata": {
        "id": "9KN_kDgZ8JEb"
      },
      "outputs": [],
      "source": [
        "import os\n",
        "import pandas as pd\n",
        "import numpy as np\n",
        "from mixpanel_utils import MixpanelUtils\n",
        "from datetime import date, datetime, timedelta\n",
        "import logging\n",
        "import boto3\n",
        "\n",
        "\n",
        "def download_event(event):\n",
        "  EVENT = event\n",
        "  credentials = {\n",
        "      'API_secret': SECRET,\n",
        "      'token': TOKEN\n",
        "  }\n",
        "  m = MixpanelUtils(credentials['API_secret'])\n",
        "  m.export_events(f'{EVENT}_{FROM_DATE}_{TO_DATE}.csv',{'from_date':FROM_DATE,'to_date':TO_DATE, 'event': f'[\\\"{EVENT}\\\"]','where': '(properties[\"env\"] == \"PROD\")'}, format='csv', timezone_offset=0)"
      ]
    },
    {
      "cell_type": "code",
      "source": [
        "#\n",
        "\n",
        "for event in \"\"\"click_button_explore\n",
        "click_button_loans\n",
        "click_button_aid\n",
        "click_button_tuitionfree\n",
        "click_button_videoDEMRE\n",
        "click_button_institutionfree\n",
        "click_button_searchaid\n",
        "click_button_fscu\n",
        "click_button_cae\n",
        "click_button_aplicattion\n",
        "click_applied_career\n",
        "click_button_risk_explore\n",
        "click_recommended_career\n",
        "click_button_access_advice\n",
        "click_button_aplicattion \"\"\".split('\\n'):\n",
        "  download_event(event)\n",
        "  print(event, \"Done.\")"
      ],
      "metadata": {
        "id": "elEjubSa0mU_",
        "colab": {
          "base_uri": "https://localhost:8080/"
        },
        "outputId": "867369d9-75bd-45dd-9ffd-023356b88ba9"
      },
      "execution_count": null,
      "outputs": [
        {
          "output_type": "stream",
          "name": "stdout",
          "text": [
            "click_button_explore Done.\n",
            "click_button_loans Done.\n",
            "click_button_aid Done.\n",
            "click_button_tuitionfree Done.\n",
            "click_button_videoDEMRE Done.\n",
            "click_button_institutionfree Done.\n",
            "click_button_searchaid Done.\n",
            "click_button_fscu Done.\n",
            "click_button_cae Done.\n"
          ]
        },
        {
          "output_type": "stream",
          "name": "stderr",
          "text": [
            "WARNING: /export API response empty\n",
            "WARNING:mixpanel_utils:/export API response empty\n",
            "ERROR: No data to write!\n",
            "ERROR:mixpanel_utils:No data to write!\n"
          ]
        },
        {
          "output_type": "stream",
          "name": "stdout",
          "text": [
            "click_button_aplicattion  Done.\n",
            "click_applied_career Done.\n",
            "click_button_risk_explore Done.\n",
            "click_recommended_career Done.\n",
            "click_button_access_advice Done.\n"
          ]
        },
        {
          "output_type": "stream",
          "name": "stderr",
          "text": [
            "WARNING: /export API response empty\n",
            "WARNING:mixpanel_utils:/export API response empty\n",
            "ERROR: No data to write!\n",
            "ERROR:mixpanel_utils:No data to write!\n"
          ]
        },
        {
          "output_type": "stream",
          "name": "stdout",
          "text": [
            "click_button_aplicattion  Done.\n"
          ]
        }
      ]
    }
  ]
}